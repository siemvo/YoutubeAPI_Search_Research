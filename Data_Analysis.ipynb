{
 "cells": [
  {
   "cell_type": "code",
   "execution_count": 15,
   "id": "29eeac57",
   "metadata": {},
   "outputs": [],
   "source": [
    "import pandas as pd\n",
    "data_original = pd.read_csv(\"data_final.csv\")\n",
    "\n",
    "data = data_original\n",
    "\n",
    "# Select a specific search query\n",
    "data = data[data[\"search_query\"].str.contains(\"2hollis type beat\", na=False)]"
   ]
  },
  {
   "cell_type": "code",
   "execution_count": 16,
   "id": "50d66ea2",
   "metadata": {},
   "outputs": [
    {
     "name": "stdout",
     "output_type": "stream",
     "text": [
      "\n",
      "Based on 280 videos\n",
      "tags\n",
      "free 2hollis type beat 2024    49825.5\n",
      "2hollis club                   38444.0\n",
      "twoclose                       38444.0\n",
      "starboy dance type beat        38444.0\n",
      "2hollis x trauma type beat     37067.5\n",
      "                                ...   \n",
      "2hollis starboy type beat         18.5\n",
      "2hollis nice                      18.5\n",
      "2hollis new album 2025            18.5\n",
      "2hollis 2025                      18.5\n",
      "2hollis club type beat            18.5\n",
      "Name: views, Length: 829, dtype: float64\n"
     ]
    }
   ],
   "source": [
    "# Split tags and explode\n",
    "data_split = data\n",
    "data_split[\"tags\"] = data_split[\"tags\"].str.split(\"|\")\n",
    "exploded = data.explode(\"tags\")\n",
    "\n",
    "# Calculate average views per tag\n",
    "tag_stats = exploded.groupby(\"tags\")[\"views\"].mean().sort_values(ascending=False)\n",
    "\n",
    "print(f\"\\nBased on {data.shape[0]} videos\")\n",
    "print(tag_stats)"
   ]
  },
  {
   "cell_type": "code",
   "execution_count": 20,
   "id": "0de6540a",
   "metadata": {},
   "outputs": [
    {
     "name": "stdout",
     "output_type": "stream",
     "text": [
      "Total number of videos: 280\n",
      "Tag Occurrences:\n",
      "tags\n",
      "2hollis type beat         229\n",
      "free 2hollis type beat    141\n",
      "2hollis type beat free    137\n",
      "2hollis                   122\n",
      "type beat                 121\n",
      "Name: count, dtype: int64\n",
      "\n",
      "Weighted Average Views per Tag:\n",
      "                       tags  weighted_avg_views  total_weight\n",
      "18   2hollis type beat 2024        25725.600000            25\n",
      "2        2010 edm type beat        25517.571429            49\n",
      "156       yabujin type beat        25517.571429            49\n",
      "47     drain gang type beat        23420.000000            49\n",
      "110   ken carson type beats        22985.000000            36\n"
     ]
    }
   ],
   "source": [
    "# Show total number of videos (rows in the original dataset)\n",
    "total_videos = len(data)\n",
    "print(f\"Total number of videos: {total_videos}\")\n",
    "\n",
    "exploded = data_split.explode(\"tags\")\n",
    "\n",
    "# Count occurrences of each tag\n",
    "tag_counts = exploded[\"tags\"].value_counts()\n",
    "\n",
    "# Display tag counts\n",
    "print(\"Tag Occurrences:\")\n",
    "print(tag_counts.head())\n",
    "\n",
    "# Set minimum frequency threshold\n",
    "MIN_COUNT = 5\n",
    "\n",
    "# Filter tags by minimum frequency\n",
    "filtered_exploded = exploded[exploded[\"tags\"].isin(tag_counts[tag_counts >= MIN_COUNT].index)].copy()  # Make a copy here\n",
    "\n",
    "# Calculate weighted average views\n",
    "# Use .loc[] to safely modify the dataframe and avoid SettingWithCopyWarning\n",
    "filtered_exploded[\"weight\"] = filtered_exploded[\"tags\"].map(tag_counts)\n",
    "filtered_exploded[\"weighted_views\"] = filtered_exploded[\"views\"] * filtered_exploded[\"weight\"]\n",
    "\n",
    "# Use .agg() instead of .apply() to calculate weighted average views per tag\n",
    "tag_stats = (\n",
    "    filtered_exploded.groupby(\"tags\")\n",
    "    .agg(weighted_avg_views=('weighted_views', 'sum'), total_weight=('weight', 'sum'))\n",
    "    .reset_index()\n",
    ")\n",
    "\n",
    "# Calculate weighted average views for each tag\n",
    "tag_stats[\"weighted_avg_views\"] = tag_stats[\"weighted_avg_views\"] / tag_stats[\"total_weight\"]\n",
    "\n",
    "# Sort by weighted average views\n",
    "tag_stats = tag_stats.sort_values(by=\"weighted_avg_views\", ascending=False)\n",
    "\n",
    "# Print weighted averages\n",
    "print(\"\\nWeighted Average Views per Tag:\")\n",
    "print(tag_stats.head())\n",
    "\n"
   ]
  },
  {
   "cell_type": "markdown",
   "id": "c9a4e67e",
   "metadata": {},
   "source": [
    "## Channel Investigation"
   ]
  },
  {
   "cell_type": "code",
   "execution_count": 8,
   "id": "4a6745ff",
   "metadata": {},
   "outputs": [
    {
     "name": "stdout",
     "output_type": "stream",
     "text": [
      "Total number of videos: 280\n",
      "                           video_count  percentage  average_views\n",
      "channel_name                                                     \n",
      "siem spark                          26         9.3           7345\n",
      "tiresss / underrated club           21         7.5           6431\n",
      "+fiftyzeros                         15         5.4          15093\n",
      "joalisho                            15         5.4           8212\n",
      "Klimlords Beats                      9         3.2          20282\n",
      "...                                ...         ...            ...\n",
      "twoclose                             1         0.4          38444\n",
      "wag                                  1         0.4          14164\n",
      "wholearebby                          1         0.4            125\n",
      "wtfbennie                            1         0.4          33034\n",
      "wydastral                            1         0.4            669\n",
      "\n",
      "[126 rows x 3 columns]\n"
     ]
    }
   ],
   "source": [
    "import pandas as pd\n",
    "\n",
    "# Load data\n",
    "data = pd.read_csv(\"data_final.csv\")\n",
    "\n",
    "# Show total number of videos (rows in the original dataset)\n",
    "total_videos = len(data)\n",
    "print(f\"Total number of videos: {total_videos}\")\n",
    "\n",
    "# Count videos per channel\n",
    "channel_counts = data[\"channel_name\"].value_counts()\n",
    "\n",
    "# Calculate percentage for each channel and round to 1 decimal\n",
    "channel_percentage = (channel_counts / total_videos) * 100\n",
    "channel_percentage = channel_percentage.round(1)\n",
    "\n",
    "# Calculate average views per channel\n",
    "average_views_per_channel = data.groupby(\"channel_name\")[\"views\"].mean()\n",
    "average_views_per_channel = average_views_per_channel.round().astype(int)\n",
    "\n",
    "# Combine counts, percentages, and average views into a DataFrame\n",
    "channel_stats = pd.DataFrame({\n",
    "    'video_count': channel_counts,\n",
    "    'percentage': channel_percentage,\n",
    "    'average_views': average_views_per_channel\n",
    "})\n",
    "\n",
    "# Sort the DataFrame by the percentage column in descending order\n",
    "channel_stats = channel_stats.sort_values(by=\"percentage\", ascending=False)\n",
    "\n",
    "# Display the result\n",
    "print(channel_stats)\n"
   ]
  },
  {
   "cell_type": "markdown",
   "id": "36262ff8",
   "metadata": {},
   "source": [
    "## Title Research"
   ]
  },
  {
   "cell_type": "code",
   "execution_count": 9,
   "id": "abf3897c",
   "metadata": {},
   "outputs": [
    {
     "name": "stdout",
     "output_type": "stream",
     "text": [
      "                            free  free for profit\n",
      "Average Views             8538.3          10194.5\n",
      "Standard Deviation       13290.6          12884.5\n",
      "Count                      214.0             60.0\n",
      "Percentage of Total (%)     76.4             21.4\n"
     ]
    }
   ],
   "source": [
    "# Compare \"free\" to \"free for profit\"\n",
    "\n",
    "total_rows = len(data)\n",
    "\n",
    "# Convert titles to lowercase and filter rows for each condition\n",
    "free_rows = data[data['title'].str.lower().str.contains('free')]\n",
    "free_for_profit_rows = data[data['title'].str.lower().str.contains('free for profit')]\n",
    "\n",
    "# Calculate average views and standard deviation for \"free\"\n",
    "free_avg_views = free_rows['views'].mean()\n",
    "free_std_views = free_rows['views'].std()\n",
    "\n",
    "# Calculate average views and standard deviation for \"free for profit\"\n",
    "free_for_profit_avg_views = free_for_profit_rows['views'].mean()\n",
    "free_for_profit_std_views = free_for_profit_rows['views'].std()\n",
    "\n",
    "# Calculate count and percentage for \"free\"\n",
    "free_count = len(free_rows)\n",
    "free_percentage = (free_count / total_rows) * 100\n",
    "\n",
    "# Calculate count and percentage for \"free for profit\"\n",
    "free_for_profit_count = len(free_for_profit_rows)\n",
    "free_for_profit_percentage = (free_for_profit_count / total_rows) * 100\n",
    "\n",
    "# Create a summary DataFrame\n",
    "summary_data = {\n",
    "    \"Average Views\": [free_avg_views, free_for_profit_avg_views],\n",
    "    \"Standard Deviation\": [free_std_views, free_for_profit_std_views],\n",
    "    \"Count\": [free_count, free_for_profit_count],\n",
    "    \"Percentage of Total (%)\": [free_percentage, free_for_profit_percentage]\n",
    "}\n",
    "\n",
    "# Create DataFrame and set categories as index\n",
    "summary_df = pd.DataFrame(summary_data, index=['free', 'free for profit'])\n",
    "\n",
    "# Transpose the DataFrame (switch columns and rows)\n",
    "summary_df = summary_df.T\n",
    "\n",
    "summary_df.loc['Average Views'] = summary_df.loc['Average Views'].round(1)\n",
    "summary_df.loc['Standard Deviation'] = summary_df.loc['Standard Deviation'].round(1)\n",
    "summary_df.loc['Count'] = summary_df.loc['Count']\n",
    "summary_df.loc['Percentage of Total (%)'] = summary_df.loc['Percentage of Total (%)'].round(1)\n",
    "\n",
    "# Print the transposed summary table\n",
    "print(summary_df)\n"
   ]
  },
  {
   "cell_type": "code",
   "execution_count": 10,
   "id": "c08c48bd",
   "metadata": {},
   "outputs": [
    {
     "data": {
      "image/png": "[encoded data removed]",
      "text/plain": [
       "<Figure size 1000x500 with 1 Axes>"
      ]
     },
     "metadata": {},
     "output_type": "display_data"
    }
   ],
   "source": [
    "import matplotlib.pyplot as plt\n",
    "import seaborn as sns\n",
    "\n",
    "# Calculate means for each group\n",
    "free_mean = free_rows['views'].mean()\n",
    "free_for_profit_mean = free_for_profit_rows['views'].mean()\n",
    "\n",
    "# Plot histograms to visualize the distribution of views\n",
    "plt.figure(figsize=(10, 5))\n",
    "\n",
    "# For \"free\"\n",
    "sns.histplot(free_rows['views'], kde=True, color='blue', label='Free', bins=30)\n",
    "# For \"free for profit\"\n",
    "sns.histplot(free_for_profit_rows['views'], kde=True, color='green', label='Free for Profit', bins=30)\n",
    "\n",
    "# Add a vertical dotted line at the mean for \"free\"\n",
    "plt.axvline(free_mean, color='blue', linestyle='--', label=f'Mean - Free: {free_mean:.0f}')\n",
    "\n",
    "# Add a vertical dotted line at the mean for \"free for profit\"\n",
    "plt.axvline(free_for_profit_mean, color='green', linestyle='--', label=f'Mean - Free for Profit: {free_for_profit_mean:.0f}')\n",
    "\n",
    "plt.legend()\n",
    "plt.title(\"Views Distribution for 'Free' and 'Free for Profit'\")\n",
    "plt.xlabel(\"Views\")\n",
    "plt.ylabel(\"Frequency\")\n",
    "plt.show()\n"
   ]
  }
 ],
 "metadata": {
  "kernelspec": {
   "display_name": "Python 3",
   "language": "python",
   "name": "python3"
  },
  "language_info": {
   "codemirror_mode": {
    "name": "ipython",
    "version": 3
   },
   "file_extension": ".py",
   "mimetype": "text/x-python",
   "name": "python",
   "nbconvert_exporter": "python",
   "pygments_lexer": "ipython3",
   "version": "3.13.2"
  }
 },
 "nbformat": 4,
 "nbformat_minor": 5
}
