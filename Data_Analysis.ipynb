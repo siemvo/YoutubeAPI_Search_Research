{
 "cells": [
  {
   "cell_type": "code",
   "execution_count": 15,
   "id": "29eeac57",
   "metadata": {},
   "outputs": [
    {
     "name": "stdout",
     "output_type": "stream",
     "text": [
      "tags\n",
      "flowrency                     49824.0\n",
      "сведение 2hollis              46550.0\n",
      "сделать                       46550.0\n",
      "туториал                      46550.0\n",
      "тухолис                       46550.0\n",
      "                               ...   \n",
      "2hollis x hpzbeatz collab         9.0\n",
      "Free bass-heavy EDM trap          9.0\n",
      "EDM x Trap hybrid beat            9.0\n",
      "Emotional trap type beat          9.0\n",
      "Free EDM Trap instrumental        9.0\n",
      "Name: views, Length: 1297, dtype: float64\n",
      "\n",
      "Based on 569 videos\n"
     ]
    }
   ],
   "source": [
    "import pandas as pd\n",
    "data = pd.read_csv(\"data_final.csv\")\n",
    "\n",
    "# Split tags and explode\n",
    "data[\"tags\"] = data[\"tags\"].str.split(\"|\")\n",
    "exploded = data.explode(\"tags\")\n",
    "\n",
    "# Calculate average views per tag\n",
    "tag_stats = exploded.groupby(\"tags\")[\"views\"].mean().sort_values(ascending=False)\n",
    "print(tag_stats)\n",
    "\n",
    "print(f\"\\nBased on {data.shape[0]} videos\")"
   ]
  },
  {
   "cell_type": "code",
   "execution_count": 16,
   "id": "0de6540a",
   "metadata": {},
   "outputs": [
    {
     "name": "stdout",
     "output_type": "stream",
     "text": [
      "Total number of videos: 569\n",
      "Tag Occurrences:\n",
      "tags\n",
      "2hollis type beat         426\n",
      "free 2hollis type beat    292\n",
      "2hollis type beat free    275\n",
      "nate sib type beat        260\n",
      "type beat                 243\n",
      "Name: count, dtype: int64\n",
      "\n",
      "Weighted Average Views per Tag:\n",
      "                               tags  weighted_avg_views  total_weight\n",
      "251               yabujin type beat        20099.444444            81\n",
      "40                    agc type beat        18849.166667            36\n",
      "100  free ken carson type beat 2024        18818.833333            36\n",
      "162                 ken carson beat        17566.882353           289\n",
      "86                free 2hollis beat        17073.166667            36\n",
      "\n",
      "Total number of videos after filtering by tags: 9092\n"
     ]
    },
    {
     "name": "stderr",
     "output_type": "stream",
     "text": [
      "C:\\Users\\Gebruiker\\AppData\\Local\\Temp\\ipykernel_43980\\3317038904.py:29: SettingWithCopyWarning: \n",
      "A value is trying to be set on a copy of a slice from a DataFrame.\n",
      "Try using .loc[row_indexer,col_indexer] = value instead\n",
      "\n",
      "See the caveats in the documentation: https://pandas.pydata.org/pandas-docs/stable/user_guide/indexing.html#returning-a-view-versus-a-copy\n",
      "  filtered_exploded.loc[:, \"weight\"] = filtered_exploded[\"tags\"].map(tag_counts)\n",
      "C:\\Users\\Gebruiker\\AppData\\Local\\Temp\\ipykernel_43980\\3317038904.py:30: SettingWithCopyWarning: \n",
      "A value is trying to be set on a copy of a slice from a DataFrame.\n",
      "Try using .loc[row_indexer,col_indexer] = value instead\n",
      "\n",
      "See the caveats in the documentation: https://pandas.pydata.org/pandas-docs/stable/user_guide/indexing.html#returning-a-view-versus-a-copy\n",
      "  filtered_exploded.loc[:, \"weighted_views\"] = filtered_exploded[\"views\"] * filtered_exploded[\"weight\"]\n"
     ]
    }
   ],
   "source": [
    "import pandas as pd\n",
    "\n",
    "# Load data\n",
    "data = pd.read_csv(\"data_final.csv\")\n",
    "\n",
    "# Show total number of videos (rows in the original dataset)\n",
    "total_videos = len(data)\n",
    "print(f\"Total number of videos: {total_videos}\")\n",
    "\n",
    "# Split tags and explode\n",
    "data[\"tags\"] = data[\"tags\"].str.split(\"|\")\n",
    "exploded = data.explode(\"tags\")\n",
    "\n",
    "# Count occurrences of each tag\n",
    "tag_counts = exploded[\"tags\"].value_counts()\n",
    "\n",
    "# Display tag counts\n",
    "print(\"Tag Occurrences:\")\n",
    "print(tag_counts.head())\n",
    "\n",
    "# Set minimum frequency threshold\n",
    "MIN_COUNT = 5\n",
    "\n",
    "# Filter tags by minimum frequency\n",
    "filtered_exploded = exploded[exploded[\"tags\"].isin(tag_counts[tag_counts >= MIN_COUNT].index)]\n",
    "\n",
    "# Calculate weighted average views\n",
    "# Use .loc[] to safely modify the dataframe and avoid SettingWithCopyWarning\n",
    "filtered_exploded.loc[:, \"weight\"] = filtered_exploded[\"tags\"].map(tag_counts)\n",
    "filtered_exploded.loc[:, \"weighted_views\"] = filtered_exploded[\"views\"] * filtered_exploded[\"weight\"]\n",
    "\n",
    "# Use .agg() instead of .apply() to calculate weighted average views per tag\n",
    "tag_stats = (\n",
    "    filtered_exploded.groupby(\"tags\")\n",
    "    .agg(weighted_avg_views=('weighted_views', 'sum'), total_weight=('weight', 'sum'))\n",
    "    .reset_index()\n",
    ")\n",
    "\n",
    "# Calculate weighted average views for each tag\n",
    "tag_stats[\"weighted_avg_views\"] = tag_stats[\"weighted_avg_views\"] / tag_stats[\"total_weight\"]\n",
    "\n",
    "# Sort by weighted average views\n",
    "tag_stats = tag_stats.sort_values(by=\"weighted_avg_views\", ascending=False)\n",
    "\n",
    "# Print weighted averages\n",
    "print(\"\\nWeighted Average Views per Tag:\")\n",
    "print(tag_stats.head())\n",
    "\n",
    "# Show total number of videos after filtering (optional)\n",
    "filtered_videos = len(filtered_exploded)\n",
    "print(f\"\\nTotal number of videos after filtering by tags: {filtered_videos}\")\n"
   ]
  },
  {
   "cell_type": "code",
   "execution_count": null,
   "id": "b9c2b0ae",
   "metadata": {},
   "outputs": [],
   "source": []
  }
 ],
 "metadata": {
  "kernelspec": {
   "display_name": "Python 3",
   "language": "python",
   "name": "python3"
  },
  "language_info": {
   "codemirror_mode": {
    "name": "ipython",
    "version": 3
   },
   "file_extension": ".py",
   "mimetype": "text/x-python",
   "name": "python",
   "nbconvert_exporter": "python",
   "pygments_lexer": "ipython3",
   "version": "3.13.2"
  }
 },
 "nbformat": 4,
 "nbformat_minor": 5
}
